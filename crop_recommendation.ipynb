{
  "nbformat": 4,
  "nbformat_minor": 0,
  "metadata": {
    "colab": {
      "name": "crop-recommendation.ipynb",
      "provenance": [],
      "collapsed_sections": [],
      "authorship_tag": "ABX9TyNI0aPkArRozScNDOkmb8bO",
      "include_colab_link": true
    },
    "kernelspec": {
      "name": "python3",
      "display_name": "Python 3"
    },
    "language_info": {
      "name": "python"
    }
  },
  "cells": [
    {
      "cell_type": "markdown",
      "metadata": {
        "id": "view-in-github",
        "colab_type": "text"
      },
      "source": [
        "<a href=\"https://colab.research.google.com/github/t-satwik/CS211-DSA-Lab/blob/main/crop_recommendation.ipynb\" target=\"_parent\"><img src=\"https://colab.research.google.com/assets/colab-badge.svg\" alt=\"Open In Colab\"/></a>"
      ]
    },
    {
      "cell_type": "markdown",
      "source": [
        "# **Various Classification Algorithms for Crop Recommendation System**\n",
        "7 attributes are present in the given data set\n",
        "1.   N\n",
        "2.   P\n",
        "3.   K\n",
        "4. temperature\n",
        "5. humidity\n",
        "6. ph\n",
        "7. rainfall\n",
        "\n",
        "Using these values, the model will predict one of the 22 crops which is more likely to thrive, in the given conditions.\n",
        "\n",
        "The models considered are:\n",
        "1. SVM(Support Vector Machine)\n",
        "2. Logistic Regression\n",
        "3. K nearest neighbours\n",
        "4. Naive-Bayes(considered but cannot be used in the this scenario because of indepence of attributes condition)\n",
        "\n"
      ],
      "metadata": {
        "id": "TEdR4BttlmTC"
      }
    },
    {
      "cell_type": "code",
      "execution_count": 27,
      "metadata": {
        "colab": {
          "base_uri": "https://localhost:8080/",
          "height": 206
        },
        "id": "L4O_nCMm4cFx",
        "outputId": "b3f8ee3d-d304-4706-8113-efb6ec669ba9"
      },
      "outputs": [
        {
          "output_type": "execute_result",
          "data": {
            "text/plain": [
              "    N   P   K  temperature   humidity        ph    rainfall label\n",
              "0  90  42  43    20.879744  82.002744  6.502985  202.935536  rice\n",
              "1  85  58  41    21.770462  80.319644  7.038096  226.655537  rice\n",
              "2  60  55  44    23.004459  82.320763  7.840207  263.964248  rice\n",
              "3  74  35  40    26.491096  80.158363  6.980401  242.864034  rice\n",
              "4  78  42  42    20.130175  81.604873  7.628473  262.717340  rice"
            ],
            "text/html": [
              "\n",
              "  <div id=\"df-cc741b0d-eda7-4fe1-a2df-873c826e9a78\">\n",
              "    <div class=\"colab-df-container\">\n",
              "      <div>\n",
              "<style scoped>\n",
              "    .dataframe tbody tr th:only-of-type {\n",
              "        vertical-align: middle;\n",
              "    }\n",
              "\n",
              "    .dataframe tbody tr th {\n",
              "        vertical-align: top;\n",
              "    }\n",
              "\n",
              "    .dataframe thead th {\n",
              "        text-align: right;\n",
              "    }\n",
              "</style>\n",
              "<table border=\"1\" class=\"dataframe\">\n",
              "  <thead>\n",
              "    <tr style=\"text-align: right;\">\n",
              "      <th></th>\n",
              "      <th>N</th>\n",
              "      <th>P</th>\n",
              "      <th>K</th>\n",
              "      <th>temperature</th>\n",
              "      <th>humidity</th>\n",
              "      <th>ph</th>\n",
              "      <th>rainfall</th>\n",
              "      <th>label</th>\n",
              "    </tr>\n",
              "  </thead>\n",
              "  <tbody>\n",
              "    <tr>\n",
              "      <th>0</th>\n",
              "      <td>90</td>\n",
              "      <td>42</td>\n",
              "      <td>43</td>\n",
              "      <td>20.879744</td>\n",
              "      <td>82.002744</td>\n",
              "      <td>6.502985</td>\n",
              "      <td>202.935536</td>\n",
              "      <td>rice</td>\n",
              "    </tr>\n",
              "    <tr>\n",
              "      <th>1</th>\n",
              "      <td>85</td>\n",
              "      <td>58</td>\n",
              "      <td>41</td>\n",
              "      <td>21.770462</td>\n",
              "      <td>80.319644</td>\n",
              "      <td>7.038096</td>\n",
              "      <td>226.655537</td>\n",
              "      <td>rice</td>\n",
              "    </tr>\n",
              "    <tr>\n",
              "      <th>2</th>\n",
              "      <td>60</td>\n",
              "      <td>55</td>\n",
              "      <td>44</td>\n",
              "      <td>23.004459</td>\n",
              "      <td>82.320763</td>\n",
              "      <td>7.840207</td>\n",
              "      <td>263.964248</td>\n",
              "      <td>rice</td>\n",
              "    </tr>\n",
              "    <tr>\n",
              "      <th>3</th>\n",
              "      <td>74</td>\n",
              "      <td>35</td>\n",
              "      <td>40</td>\n",
              "      <td>26.491096</td>\n",
              "      <td>80.158363</td>\n",
              "      <td>6.980401</td>\n",
              "      <td>242.864034</td>\n",
              "      <td>rice</td>\n",
              "    </tr>\n",
              "    <tr>\n",
              "      <th>4</th>\n",
              "      <td>78</td>\n",
              "      <td>42</td>\n",
              "      <td>42</td>\n",
              "      <td>20.130175</td>\n",
              "      <td>81.604873</td>\n",
              "      <td>7.628473</td>\n",
              "      <td>262.717340</td>\n",
              "      <td>rice</td>\n",
              "    </tr>\n",
              "  </tbody>\n",
              "</table>\n",
              "</div>\n",
              "      <button class=\"colab-df-convert\" onclick=\"convertToInteractive('df-cc741b0d-eda7-4fe1-a2df-873c826e9a78')\"\n",
              "              title=\"Convert this dataframe to an interactive table.\"\n",
              "              style=\"display:none;\">\n",
              "        \n",
              "  <svg xmlns=\"http://www.w3.org/2000/svg\" height=\"24px\"viewBox=\"0 0 24 24\"\n",
              "       width=\"24px\">\n",
              "    <path d=\"M0 0h24v24H0V0z\" fill=\"none\"/>\n",
              "    <path d=\"M18.56 5.44l.94 2.06.94-2.06 2.06-.94-2.06-.94-.94-2.06-.94 2.06-2.06.94zm-11 1L8.5 8.5l.94-2.06 2.06-.94-2.06-.94L8.5 2.5l-.94 2.06-2.06.94zm10 10l.94 2.06.94-2.06 2.06-.94-2.06-.94-.94-2.06-.94 2.06-2.06.94z\"/><path d=\"M17.41 7.96l-1.37-1.37c-.4-.4-.92-.59-1.43-.59-.52 0-1.04.2-1.43.59L10.3 9.45l-7.72 7.72c-.78.78-.78 2.05 0 2.83L4 21.41c.39.39.9.59 1.41.59.51 0 1.02-.2 1.41-.59l7.78-7.78 2.81-2.81c.8-.78.8-2.07 0-2.86zM5.41 20L4 18.59l7.72-7.72 1.47 1.35L5.41 20z\"/>\n",
              "  </svg>\n",
              "      </button>\n",
              "      \n",
              "  <style>\n",
              "    .colab-df-container {\n",
              "      display:flex;\n",
              "      flex-wrap:wrap;\n",
              "      gap: 12px;\n",
              "    }\n",
              "\n",
              "    .colab-df-convert {\n",
              "      background-color: #E8F0FE;\n",
              "      border: none;\n",
              "      border-radius: 50%;\n",
              "      cursor: pointer;\n",
              "      display: none;\n",
              "      fill: #1967D2;\n",
              "      height: 32px;\n",
              "      padding: 0 0 0 0;\n",
              "      width: 32px;\n",
              "    }\n",
              "\n",
              "    .colab-df-convert:hover {\n",
              "      background-color: #E2EBFA;\n",
              "      box-shadow: 0px 1px 2px rgba(60, 64, 67, 0.3), 0px 1px 3px 1px rgba(60, 64, 67, 0.15);\n",
              "      fill: #174EA6;\n",
              "    }\n",
              "\n",
              "    [theme=dark] .colab-df-convert {\n",
              "      background-color: #3B4455;\n",
              "      fill: #D2E3FC;\n",
              "    }\n",
              "\n",
              "    [theme=dark] .colab-df-convert:hover {\n",
              "      background-color: #434B5C;\n",
              "      box-shadow: 0px 1px 3px 1px rgba(0, 0, 0, 0.15);\n",
              "      filter: drop-shadow(0px 1px 2px rgba(0, 0, 0, 0.3));\n",
              "      fill: #FFFFFF;\n",
              "    }\n",
              "  </style>\n",
              "\n",
              "      <script>\n",
              "        const buttonEl =\n",
              "          document.querySelector('#df-cc741b0d-eda7-4fe1-a2df-873c826e9a78 button.colab-df-convert');\n",
              "        buttonEl.style.display =\n",
              "          google.colab.kernel.accessAllowed ? 'block' : 'none';\n",
              "\n",
              "        async function convertToInteractive(key) {\n",
              "          const element = document.querySelector('#df-cc741b0d-eda7-4fe1-a2df-873c826e9a78');\n",
              "          const dataTable =\n",
              "            await google.colab.kernel.invokeFunction('convertToInteractive',\n",
              "                                                     [key], {});\n",
              "          if (!dataTable) return;\n",
              "\n",
              "          const docLinkHtml = 'Like what you see? Visit the ' +\n",
              "            '<a target=\"_blank\" href=https://colab.research.google.com/notebooks/data_table.ipynb>data table notebook</a>'\n",
              "            + ' to learn more about interactive tables.';\n",
              "          element.innerHTML = '';\n",
              "          dataTable['output_type'] = 'display_data';\n",
              "          await google.colab.output.renderOutput(dataTable, element);\n",
              "          const docLink = document.createElement('div');\n",
              "          docLink.innerHTML = docLinkHtml;\n",
              "          element.appendChild(docLink);\n",
              "        }\n",
              "      </script>\n",
              "    </div>\n",
              "  </div>\n",
              "  "
            ]
          },
          "metadata": {},
          "execution_count": 27
        }
      ],
      "source": [
        "#Reading Data\n",
        "#data-set src:https://www.kaggle.com/atharvaingle/crop-recommendation-dataset\n",
        "import pandas as pd\n",
        "path=\"https://drive.google.com/uc?export=download&id=1e_J4ObhvpdBsTXaH3wdwFH5oj78GT1wB\"\n",
        "data=pd.read_csv(path) \n",
        "data.head()\n"
      ]
    },
    {
      "cell_type": "code",
      "source": [
        "#splitting the data into train and test sets\n",
        "data.shape\n",
        "x=data[['N','P','K','temperature','humidity','ph','rainfall']]\n",
        "y=data['label']\n",
        "from sklearn.model_selection import train_test_split\n",
        "train_x,test_x,train_y,test_y=train_test_split(x,y, train_size=0.7)"
      ],
      "metadata": {
        "id": "378siCn6_m2D"
      },
      "execution_count": 28,
      "outputs": []
    },
    {
      "cell_type": "code",
      "source": [
        "#SVM IMPLEMENTATION\n",
        "from sklearn.svm import SVC\n",
        "start_c=0.00001\n",
        "c_values=[float((10**i)*start_c) for i in range(10)]\n",
        "ker_values=['linear', 'poly', 'rbf']\n",
        "values={}\n",
        "for c in c_values:\n",
        "  values[str(c)]={}\n",
        "  for ker in ker_values[:1]:\n",
        "    values[str(c)][ker]={}\n",
        "    current_svc=SVC(C=c,kernel=ker)\n",
        "    current_svc.fit(train_x, train_y)\n",
        "    values[str(c)][ker]['train']=current_svc.score(train_x, train_y)\n",
        "    test_predict=current_svc.predict(test_x)\n",
        "    values[str(c)][ker]['test']=current_svc.score(test_x, test_y)\n",
        "# print the predicted class and actual y values.\n",
        "# print(test_predict)\n",
        "# print(test_y)\n",
        "best_score=-1.0\n",
        "for c in values.keys():\n",
        "  for k in values[c].keys():\n",
        "    if values[c][k]['test']>best_score:\n",
        "      best_score=values[c][k]['test']\n",
        "      best_c=c\n",
        "      best_ker=k\n",
        "print(\"SVM Accuracy={} c={} ker={}\".format(best_score, best_c, best_ker))\n",
        "# Print in the form of a table.\n",
        "# temp={}\n",
        "# for c in values.keys():\n",
        "#   temp[c]={}\n",
        "#   for k in values[c].keys():\n",
        "#     temp[c][k]=(values[c][k]['train'], values[c][k]['test'])\n",
        "# pd.DataFrame(temp)"
      ],
      "metadata": {
        "id": "rvjsXNWnBTpU",
        "colab": {
          "base_uri": "https://localhost:8080/"
        },
        "outputId": "c80a284e-76bf-454f-8855-072ba70982a2"
      },
      "execution_count": 29,
      "outputs": [
        {
          "output_type": "stream",
          "name": "stdout",
          "text": [
            "SVM Accuracy=0.9848484848484849 c=0.01 ker=linear\n"
          ]
        }
      ]
    },
    {
      "cell_type": "code",
      "source": [
        "#Logistic Regression Implementation\n",
        "# src:https://www.kaggle.com/code/satishgunjal/multiclass-logistic-regression-using-sklearn/notebook\n",
        "from sklearn import linear_model\n",
        "lm = linear_model.LogisticRegression(multi_class='ovr', solver='liblinear')\n",
        "lm.fit(train_x, train_y)\n",
        "best_score=lm.score(test_x, test_y)\n",
        "print(\"Logistic Regression(without tweaking the hyperparams) Accuracy={}\".format(best_score))"
      ],
      "metadata": {
        "id": "YxCPduzRxP74",
        "colab": {
          "base_uri": "https://localhost:8080/"
        },
        "outputId": "fdd71cb9-54c6-468e-e163-d011c8afc12d"
      },
      "execution_count": 30,
      "outputs": [
        {
          "output_type": "stream",
          "name": "stdout",
          "text": [
            "Logistic Regression(without tweaking the hyperparams) Accuracy=0.943939393939394\n"
          ]
        }
      ]
    },
    {
      "cell_type": "code",
      "source": [
        "# K Nearest Neighbours\n",
        "# src: https://scikit-learn.org/stable/modules/generated/sklearn.neighbors.KNeighborsClassifier.html\n",
        "from sklearn.neighbors import KNeighborsClassifier\n",
        "best_score=-1\n",
        "for i in range(1, 100):\n",
        "  knn = KNeighborsClassifier(n_neighbors=i)\n",
        "  score=knn.fit(train_x, train_y).score(test_x, test_y)\n",
        "  if score>best_score:\n",
        "    best_score=score\n",
        "    best_neighbours=i\n",
        "print(\"K nearest neighbours Accuracy={} #neighbours={}\".format(best_score, best_neighbours))"
      ],
      "metadata": {
        "colab": {
          "base_uri": "https://localhost:8080/"
        },
        "id": "FAVKoeJMzrdE",
        "outputId": "19342aa4-591a-4b36-c0bc-c100a79ae120"
      },
      "execution_count": 31,
      "outputs": [
        {
          "output_type": "stream",
          "name": "stdout",
          "text": [
            "K nearest neighbours Accuracy=0.9833333333333333 #neighbours=1\n"
          ]
        }
      ]
    },
    {
      "cell_type": "code",
      "source": [
        "# Naive Bayes: Independence rule not satisifed between humidity and rainfall, so cannot implement"
      ],
      "metadata": {
        "id": "XWTWuMQtzCkb"
      },
      "execution_count": 32,
      "outputs": []
    }
  ]
}